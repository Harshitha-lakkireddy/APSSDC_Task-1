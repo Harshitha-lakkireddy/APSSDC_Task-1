{
 "cells": [
  {
   "cell_type": "markdown",
   "metadata": {},
   "source": [
    "### 1. Program to check whether the user eligible for vote or not"
   ]
  },
  {
   "cell_type": "code",
   "execution_count": 3,
   "metadata": {},
   "outputs": [
    {
     "name": "stdout",
     "output_type": "stream",
     "text": [
      "Enter your Age: 19\n",
      "Eligible to vote\n"
     ]
    }
   ],
   "source": [
    "s = int(input('Enter your Age: '))\n",
    "if s>=18:\n",
    "    print('Eligible to vote')\n",
    "else:\n",
    "    print('Not Eligible to vote')"
   ]
  },
  {
   "cell_type": "markdown",
   "metadata": {},
   "source": [
    "### 2. Program to check the given number is positive or negative"
   ]
  },
  {
   "cell_type": "code",
   "execution_count": 5,
   "metadata": {},
   "outputs": [
    {
     "name": "stdout",
     "output_type": "stream",
     "text": [
      "Enter a Number: -8\n",
      "Negative Number\n"
     ]
    }
   ],
   "source": [
    "s = int(input('Enter a Number: '))\n",
    "if s >=0:\n",
    "    print('POsitive Number')\n",
    "else:\n",
    "    print('Negative Number')"
   ]
  },
  {
   "cell_type": "markdown",
   "metadata": {},
   "source": [
    "### 3. Program to check the given number is even or odd if it's even check which is divisible by 4 or not"
   ]
  },
  {
   "cell_type": "code",
   "execution_count": 8,
   "metadata": {},
   "outputs": [
    {
     "name": "stdout",
     "output_type": "stream",
     "text": [
      "Enter a Number: 32\n",
      "Even Number\n",
      "The number is divisible by 4\n"
     ]
    }
   ],
   "source": [
    "s = int(input('Enter a Number: '))\n",
    "if s % 2==0:\n",
    "    print('Even Number')\n",
    "    if s % 4==0:\n",
    "        print('The number is divisible by 4')\n",
    "    else:\n",
    "        print('The number is not divisible by 4')\n",
    "else:\n",
    "    print('odd Number')"
   ]
  },
  {
   "cell_type": "markdown",
   "metadata": {},
   "source": [
    "### 4. Program to print student grade based on percentage like Distinction, pass or fail."
   ]
  },
  {
   "cell_type": "code",
   "execution_count": 19,
   "metadata": {},
   "outputs": [
    {
     "name": "stdout",
     "output_type": "stream",
     "text": [
      "Enter your Marks in 1st subject: 6\n",
      "Enter your Marks in 2nd subject: 45\n",
      "Enter your Marks in 3rd subject: 95\n",
      "Enter your Marks in 4th subject: 78\n",
      "56.0\n",
      "Pass\n"
     ]
    }
   ],
   "source": [
    "s1 = int(input('Enter your Marks in 1st subject: '))\n",
    "s2 = int(input('Enter your Marks in 2nd subject: '))\n",
    "s3 = int(input('Enter your Marks in 3rd subject: '))\n",
    "s4 = int(input('Enter your Marks in 4th subject: '))\n",
    "total = s1+s2+s3+s4\n",
    "per = total/4\n",
    "print(per)\n",
    "if per >= 100:\n",
    "    print('Distinction')\n",
    "elif per>=40:\n",
    "    print('Pass')\n",
    "else:\n",
    "    print('Fail')"
   ]
  },
  {
   "cell_type": "markdown",
   "metadata": {},
   "source": [
    "### 5. Program to check the given year is leap or not."
   ]
  },
  {
   "cell_type": "code",
   "execution_count": 12,
   "metadata": {},
   "outputs": [
    {
     "name": "stdout",
     "output_type": "stream",
     "text": [
      "Enter the year: 2020\n",
      "It is LEAP YEAR\n"
     ]
    }
   ],
   "source": [
    "yr = int(input('Enter the year: '))\n",
    "if yr%4 == 0 and yr%100 == 0 and yr%400 == 0:\n",
    "    print('It is LEAP YEAR')\n",
    "elif yr%4==0 and yr%100!=0:\n",
    "    print('It is LEAP YEAR')\n",
    "else:\n",
    "    print('It is NOT LEAP YEAR')"
   ]
  }
 ],
 "metadata": {
  "kernelspec": {
   "display_name": "Python 3",
   "language": "python",
   "name": "python3"
  },
  "language_info": {
   "codemirror_mode": {
    "name": "ipython",
    "version": 3
   },
   "file_extension": ".py",
   "mimetype": "text/x-python",
   "name": "python",
   "nbconvert_exporter": "python",
   "pygments_lexer": "ipython3",
   "version": "3.8.5"
  }
 },
 "nbformat": 4,
 "nbformat_minor": 4
}
